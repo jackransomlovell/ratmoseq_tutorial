{
 "cells": [
  {
   "cell_type": "markdown",
   "metadata": {},
   "source": [
    "# MoSeq modeling\n",
    "Now that we have performed PCA we can finally move onto fitting a MoSeq model! The underlying algorithm is something called a autoregressive hidden markov model (AR-HMM). Pretty much, the way the model works is by taking data and clustering it into dynamical systems that evolve across short periods of time. See below for resources on what they are actually doing."
   ]
  },
  {
   "cell_type": "markdown",
   "metadata": {},
   "source": [
    "### Estimating syllable duration\n",
    "In MoSeq there is something called a free parameter, which is flexible and can be controlled by the user. The name of this parameter is `kappa` and it controls the average duration of each syllable. If we inspect the timescale of rat behavior with respect to that of a mouse - we can see that rats behave on a slower timescale, the duration of their syllables are far longer than that mice. This means we need to estimate a new kappa! How might we do that? "
   ]
  },
  {
   "cell_type": "markdown",
   "metadata": {},
   "source": [
    "### Random projections and changepoint scores\n",
    "When Alex W and Bob were first developing MoSeq they were trying to build a sniff detector. Something that just detected when a mouse was sampling it's environment. They decided to perform something called random projections (read more here), which is largely just an unbiased way of looking at the data. What they found is that with respect to time, there is a tremendous amount of structure in mouse behavior. We can take the first derivative of those data (a filtered version of it to be precise) to get an unbiased model of rodent behavior and measure the amount of time between each amplitude in this signal. These are referred to as changepoints, which are abrupt shifts in the similarity of an animal's pose that align with syllable transitions. Below is a graphic of this, where changepoint amplitudes align with striations in random projections, the time between each striation is a syllable. "
   ]
  },
  {
   "cell_type": "markdown",
   "metadata": {},
   "source": [
    "TODO: include rps graphic"
   ]
  },
  {
   "cell_type": "markdown",
   "metadata": {},
   "source": [
    "### Determening kappa\n",
    "If we measure the duration of each block using the changepoint model, we can get an estimate of the timescale of rat behavior. We can permute kappa a bunch of time to try and infer which kappa best matches the changepoint distribution. A good heuristic for rats is usually whichever model has a median syllable duration of 600 ms or a mean syllable duration of ~1 second (for mice it is 300-400 ms or 600 ms respectivley). "
   ]
  },
  {
   "cell_type": "code",
   "execution_count": null,
   "metadata": {},
   "outputs": [],
   "source": [
    "!moseq2-model kappa-scan /path/to/_pca/pca_scores.h5 /path/to/outdir/kscan -i /path/to/moseq2-index.yaml --min-kappa 1e6 --max-kappa 1e12 \n",
    "!sh /path/to/outdir/kscan/train_out.sh"
   ]
  },
  {
   "cell_type": "markdown",
   "metadata": {},
   "source": [
    "# Assesing the results\n",
    "Below is a set of code that loads each model, estimates the median changepoint duration, then compares that to the desired median duration"
   ]
  },
  {
   "cell_type": "code",
   "execution_count": 17,
   "metadata": {},
   "outputs": [],
   "source": [
    "from pathlib import Path\n",
    "import numpy as np\n",
    "import seaborn as sns\n",
    "import matplotlib.pyplot as plt\n",
    "from moseq2_viz.model.util import relabel_by_usage, parse_model_results, get_best_fit, labels_to_changepoints\n",
    "\n",
    "# define function not in moseq2\n",
    "def _load_models(pth):\n",
    "    mdl = parse_model_results(pth)\n",
    "    mdl['changepoints'] = labels_to_changepoints(mdl['labels'], fs=30)\n",
    "    return mdl"
   ]
  },
  {
   "cell_type": "code",
   "execution_count": 9,
   "metadata": {},
   "outputs": [],
   "source": [
    "# get all model objects \n",
    "model_path = Path('/n/groups/datta/jlove/data/rat_seq/rat_seq_paper/data/14weeks')\n",
    "models = list(model_path.glob('sn_kscan/v2/*.p'))\n",
    "models = [str(m) for m in models]"
   ]
  },
  {
   "cell_type": "code",
   "execution_count": 41,
   "metadata": {},
   "outputs": [],
   "source": [
    "# get the models\n",
    "model_results = {name: _load_models(name) for name in models}\n",
    "# get their median durations\n",
    "model_times = {k: np.median(v['changepoints']) for k, v in model_results.items()}\n",
    "# get how far they are from the chosen median duation (.6 seconds for rats)\n",
    "diff_dict = {k: (.6-v) for k,v in model_times.items()}\n",
    "# get the model with the minimum diff to .6 \n",
    "best_model = min(diff_dict, key=diff_dict.get)"
   ]
  },
  {
   "cell_type": "markdown",
   "metadata": {},
   "source": [
    "### Fitting the final models\n",
    "Now that we have kappa we can fit the final models. The usualy heuristic is to fit 100 models for 1000 iterations. This is extremely computationally intense, I'd reccomend 10 for 500 iterations if you are not running those in parallel. "
   ]
  },
  {
   "cell_type": "code",
   "execution_count": null,
   "metadata": {},
   "outputs": [],
   "source": [
    "!moseq2-model kappa-scan /path/to/_pca/pca_scores.h5 /path/to/outdir/models -i /path/to/moseq2-index.yaml --min-kappa fill-in-best-kappa --max-kappa fill-in-best-kappa -n 500\n",
    "!sh /path/to/outdir/models/train_out.sh"
   ]
  }
 ],
 "metadata": {
  "kernelspec": {
   "display_name": "moseq2-dev",
   "language": "python",
   "name": "moseq2-dev"
  },
  "language_info": {
   "codemirror_mode": {
    "name": "ipython",
    "version": 3
   },
   "file_extension": ".py",
   "mimetype": "text/x-python",
   "name": "python",
   "nbconvert_exporter": "python",
   "pygments_lexer": "ipython3",
   "version": "3.7.12"
  }
 },
 "nbformat": 4,
 "nbformat_minor": 4
}
