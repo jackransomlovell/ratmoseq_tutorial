{
 "cells": [
  {
   "cell_type": "markdown",
   "metadata": {},
   "source": [
    "# MoSeq modeling\n",
    "Now that we have performed PCA we can finally move onto fitting a MoSeq model! The underlying algorithm is something called a autoregressive hidden markov model (AR-HMM). Pretty much, the way the model works is by taking data and clustering it into dynamical systems that evolve across short periods of time. See below for resources on what they are actually doing."
   ]
  },
  {
   "cell_type": "markdown",
   "metadata": {},
   "source": [
    "### Estimating syllable duration\n",
    "In MoSeq there is something called a free parameter, which is flexible and can be controlled by the user. The name of this parameter is `kappa` and it controls the average duration of each syllable. If we inspect the timescale of rat behavior with respect to that of a mouse - we can see that rats behave on a slower timescale, the duration of their syllables are far longer than that mice. This means we need to estimate a new kappa! How might we do that? "
   ]
  },
  {
   "cell_type": "markdown",
   "metadata": {},
   "source": [
    "### Random projections and changepoint scores\n",
    "When Alex W and Bob were first developing MoSeq they were trying to build a sniff detector. Something that just detected when a mouse was sampling it's environment. They decided to perform something called random projections (read more here), which is largely just an unbiased way of looking at the data. What they found is that with respect to time, there is a tremendous amount of structure in mouse behavior. We can take the first derivative of those data (a filtered version of it to be precise) to get an unbiased model of rodent behavior and measure the amount of time between each amplitude in this signal. These are referred to as changepoints, which are abrupt shifts in the similarity of an animal's pose that align with syllable transitions. Below is a graphic of this, where changepoint amplitudes align with striations in random projections, the time between each striation is a syllable. "
   ]
  },
  {
   "cell_type": "markdown",
   "metadata": {},
   "source": [
    "TODO: include rps graphic"
   ]
  },
  {
   "cell_type": "markdown",
   "metadata": {},
   "source": [
    "### Determening kappa\n",
    "If we measure the duration of each block using the changepoint model, we can get an estimate of the timescale of rat behavior. We can permute kappa a bunch of time to try and infer which kappa best matches the changepoint distribution. A good heuristic for rats is usually whichever model has a median syllable duration of 600 ms or a mean syllable duration of ~1 second (for mice it is 300-400 ms or 600 ms respectivley). "
   ]
  },
  {
   "cell_type": "code",
   "execution_count": null,
   "metadata": {},
   "outputs": [],
   "source": [
    "#TODO include kappa scan graphic, and kappa scan table"
   ]
  },
  {
   "cell_type": "markdown",
   "metadata": {},
   "source": [
    "### Fitting the final models\n",
    "Now that we have kappa we can fit the final models. The usualy heuristic is to fit 100 models for 1000 iterations. This is extremely computationally intense, I'd reccomend 10 for 500 iterations if you are not running those in parallel. "
   ]
  },
  {
   "cell_type": "code",
   "execution_count": null,
   "metadata": {},
   "outputs": [],
   "source": [
    "#TODO include kappa scan code"
   ]
  }
 ],
 "metadata": {
  "kernelspec": {
   "display_name": "ratmoseq-extract",
   "language": "python",
   "name": "python3"
  },
  "language_info": {
   "name": "python",
   "version": "3.10.16"
  }
 },
 "nbformat": 4,
 "nbformat_minor": 2
}
