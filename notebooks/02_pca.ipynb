{
 "cells": [
  {
   "cell_type": "markdown",
   "metadata": {},
   "source": [
    "# PCA\n",
    "The second step in Rat MoSeq is to reduce the number of dimensions of the data before modeling them. This is important for a number of reasons, but primarily it allows us to model the data easier with the underlying MoSeq algorithm."
   ]
  },
  {
   "cell_type": "markdown",
   "metadata": {},
   "source": [
    "### Cleaning data\n",
    "Before performing PCA we clean the data from any noise and smooth the animal (TODO: include size norm). Below shows what the data look like after performing that cleaning, this is accomplished with simple traditional computer vision techniques like thresholing and morphological operations. Read more here: TODO include openCV link"
   ]
  },
  {
   "cell_type": "code",
   "execution_count": null,
   "metadata": {
    "vscode": {
     "languageId": "plaintext"
    }
   },
   "outputs": [],
   "source": [
    "#TODO include cleaning example"
   ]
  },
  {
   "cell_type": "markdown",
   "metadata": {},
   "source": [
    "## Performing PCA\n",
    "PCA is computationally intense and takes a lot of data, so we aren't going to load the data and run the code block to accomplish that here. The two commands below automate that along with cleaning. Pretty much we want to take a matrix that is of the shape time x width x height and transform it to time x 10 PCs. The 10 PCs should explain ~90% of the variance, and we can check that by looking in the `_pca` directory generated after running the below commands"
   ]
  },
  {
   "cell_type": "code",
   "execution_count": null,
   "metadata": {
    "vscode": {
     "languageId": "plaintext"
    }
   },
   "outputs": [],
   "source": [
    "#TODO train pca step"
   ]
  },
  {
   "cell_type": "code",
   "execution_count": null,
   "metadata": {
    "vscode": {
     "languageId": "plaintext"
    }
   },
   "outputs": [],
   "source": [
    "#TODO apply pca step"
   ]
  }
 ],
 "metadata": {
  "language_info": {
   "name": "python"
  }
 },
 "nbformat": 4,
 "nbformat_minor": 2
}
