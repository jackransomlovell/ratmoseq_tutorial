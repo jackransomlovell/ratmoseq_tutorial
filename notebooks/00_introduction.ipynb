{
 "cells": [
  {
   "cell_type": "markdown",
   "metadata": {},
   "source": [
    "# Rat MoSeq Tutorial\n",
    "\n",
    "Welcome! This notebook answers the following two questions: i.) what is MoSeq? and ii.) why do we care about it? \n",
    "\n",
    "## What is MoSeq\n",
    "\n",
    "MoSeq is a tool developed by the Datta Lab at Harvard Medical School that automates the study of behavior in the open field. In brief, the animal's pose (i.e. posture) is measured using a depth camera or keypoints, and those data are then subject to time-series modeling. In return an experimenter is able to infer what action (herein referred to as a syllable) the animal is expressing at a given point during a recording. The graphic below renders a visual depiction of this, and a list of publications are also attached for those interested in reading further. \n",
    "\n",
    "TODO: add graphic and a list of publications\n",
    "\n",
    "## Why do we care about MoSeq? \n",
    "\n",
    "Ethologists have long theorized that animal behavior is composed of syllables that are concatenated across time in a stereotyped manner. Up until MoSeq was first published, there was no real automated way to study this. Experimenters usually achieved this by observing the number of times an animal expressed a given behavior, or hand scoring behaviors with respect to time. This is prone to error, and extremely laborious. So instead, we can use modern computer vision and statistical  learning tecniques to automate this process to understand the content of behavior being expressed in the open field and it's temporal structure. "
   ]
  },
  {
   "cell_type": "markdown",
   "metadata": {},
   "source": [
    "## What is important in MoSeq? \n",
    "\n",
    "MoSeq works using the following steps:\n",
    "1. Collect the data with depth imaging or keypoint tracking\n",
    "2. Preprocess the depth data so that we have a version of the recoding that represented solely the variance in the animals pose (extraction)\n",
    "3. Perform dimensionality reduction (pca)\n",
    "4. Segment the animals behavior into syllables (model fitting)\n",
    "5. Analyze syllables to draw conclusions from your experiment (analysis)\n",
    "\n",
    "There are various things that can go wrong in each of those steps. The following notebooks will dive into how to accomplish each of these steps and what could possibly go wrong in each of them."
   ]
  },
  {
   "cell_type": "markdown",
   "metadata": {},
   "source": []
  }
 ],
 "metadata": {
  "language_info": {
   "name": "python"
  }
 },
 "nbformat": 4,
 "nbformat_minor": 2
}
